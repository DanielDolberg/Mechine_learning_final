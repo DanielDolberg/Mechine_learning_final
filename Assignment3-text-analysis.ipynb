{
 "cells": [
  {
   "cell_type": "markdown",
   "metadata": {},
   "source": [
    "# Assignment 3 - Text Analysis\n",
    "An explanation this assignment could be found in the .pdf explanation document"
   ]
  },
  {
   "cell_type": "markdown",
   "metadata": {},
   "source": [
    "\n",
    "## Materials to review for this assignment\n",
    "<h4>From Moodle:</h4> \n",
    "<h5><u>Review the notebooks regarding the following python topics</u>:</h5>\n",
    "<div class=\"alert alert-info\">\n",
    "&#x2714; <b>Working with strings</b> (tutorial notebook)<br/>\n",
    "&#x2714; <b>Text Analysis</b> (tutorial notebook)<br/>\n",
    "&#x2714; <b>Hebrew text analysis tools (tokenizer, wordnet)</b> (moodle example)<br/>\n",
    "&#x2714; <b>(brief review) All previous notebooks</b><br/>\n",
    "</div> \n",
    "<h5><u>Review the presentations regarding the following topics</u>:</h5>\n",
    "<div class=\"alert alert-info\">\n",
    "&#x2714; <b>Text Analysis</b> (lecture presentation)<br/>\n",
    "&#x2714; <b>(brief review) All other presentations</b><br/>\n",
    "</div>"
   ]
  },
  {
   "cell_type": "markdown",
   "metadata": {},
   "source": [
    "## Personal Details:"
   ]
  },
  {
   "cell_type": "code",
   "execution_count": 1,
   "metadata": {},
   "outputs": [],
   "source": [
    "# Details Student 1:\n",
    "# Daniel Dolberg - 324064872\n",
    "# dolbergdani@gmail.com\n",
    "\n",
    "# Details Student 2:\n",
    "# Mor Cohen - 313201246\n",
    "# morxmor.c@gmail.com"
   ]
  },
  {
   "cell_type": "markdown",
   "metadata": {},
   "source": [
    "## Preceding Step - import modules (packages)\n",
    "This step is necessary in order to use external modules (packages). <br/>"
   ]
  },
  {
   "cell_type": "code",
   "execution_count": 2,
   "metadata": {},
   "outputs": [],
   "source": [
    "# --------------------------------------\n",
    "import pandas as pd\n",
    "import numpy as np\n",
    "# --------------------------------------\n",
    "\n",
    "\n",
    "# --------------------------------------\n",
    "# ------------- visualizations:\n",
    "import seaborn as sns\n",
    "import matplotlib.pyplot as plt\n",
    "from matplotlib.colors import ListedColormap\n",
    "# --------------------------------------\n",
    "\n",
    "\n",
    "# ---------------------------------------\n",
    "import sklearn\n",
    "from sklearn import preprocessing, metrics, pipeline, model_selection, feature_extraction \n",
    "from sklearn import naive_bayes, linear_model, svm, neural_network, neighbors, tree\n",
    "from sklearn import decomposition, cluster\n",
    "\n",
    "from sklearn.model_selection import train_test_split, cross_val_score, GridSearchCV \n",
    "from sklearn.pipeline import Pipeline\n",
    "from sklearn.metrics import accuracy_score, confusion_matrix\n",
    "from sklearn.metrics import precision_score, recall_score, f1_score\n",
    "from sklearn.metrics import mean_squared_error, r2_score, silhouette_score\n",
    "from sklearn.preprocessing import MinMaxScaler, StandardScaler, LabelEncoder\n",
    "\n",
    "from sklearn.svm import LinearSVC\n",
    "from sklearn.neural_network import MLPClassifier\n",
    "from sklearn.linear_model import Perceptron, SGDClassifier\n",
    "from sklearn.decomposition import PCA\n",
    "from sklearn.cluster import KMeans\n",
    "from sklearn.naive_bayes import MultinomialNB, GaussianNB\n",
    "from sklearn.neighbors import KNeighborsClassifier\n",
    "from sklearn.tree import DecisionTreeClassifier\n",
    "# ---------------------------------------\n",
    "\n",
    "\n",
    "# ----------------- output and visualizations: \n",
    "import warnings\n",
    "from sklearn.exceptions import ConvergenceWarning\n",
    "warnings.simplefilter(\"ignore\")\n",
    "warnings.simplefilter(action='ignore', category=FutureWarning)\n",
    "warnings.simplefilter(\"ignore\", category=ConvergenceWarning)\n",
    "# show several prints in one cell. This will allow us to condence every trick in one cell.\n",
    "from IPython.core.interactiveshell import InteractiveShell\n",
    "InteractiveShell.ast_node_interactivity = \"all\"\n",
    "%matplotlib inline\n",
    "pd.pandas.set_option('display.max_columns', None)\n",
    "pd.set_option('display.float_format', lambda x: '%.3f' % x)\n",
    "# ---------------------------------------"
   ]
  },
  {
   "cell_type": "markdown",
   "metadata": {},
   "source": [
    "### Text analysis and String manipulation imports:"
   ]
  },
  {
   "cell_type": "code",
   "execution_count": 3,
   "metadata": {},
   "outputs": [],
   "source": [
    "# --------------------------------------\n",
    "# --------- Text analysis and Hebrew text analysis imports:\n",
    "# vectorizers:\n",
    "from sklearn.feature_extraction import text\n",
    "from sklearn.feature_extraction.text import CountVectorizer, TfidfVectorizer\n",
    "# --------------------------------------"
   ]
  },
  {
   "cell_type": "markdown",
   "metadata": {},
   "source": [
    "### (optional) Hebrew text analysis - WordNet (for Hebrew)\n",
    "Note: the WordNet is not a must"
   ]
  },
  {
   "cell_type": "markdown",
   "metadata": {},
   "source": [
    "#### (optional) Only if you didn't install Wordnet (for Hebrew) use:"
   ]
  },
  {
   "cell_type": "markdown",
   "metadata": {},
   "source": [
    "### (optional) Hebrew text analysis - hebrew_tokenizer (Tokenizer for Hebrew)\n",
    "Note: the hebrew_tokenizer is not a must"
   ]
  },
  {
   "cell_type": "markdown",
   "metadata": {},
   "source": [
    "#### (optional) Only if you didn't install hebrew_tokenizer use:"
   ]
  },
  {
   "cell_type": "code",
   "execution_count": 4,
   "metadata": {},
   "outputs": [],
   "source": [
    "# Hebrew tokenizer installation:\n",
    "# unmark if you want to use and need to install:\n",
    "# !pip install hebrew_tokenizer\n",
    "import wn"
   ]
  },
  {
   "cell_type": "code",
   "execution_count": 5,
   "metadata": {},
   "outputs": [],
   "source": [
    "# Hebrew tokenizer import:\n",
    "\n",
    "# unmark if you want to use:\n",
    "# import hebrew_tokenizer as ht\n",
    "\n",
    "#!pip install plotly\n",
    "#!pip install wordcloud"
   ]
  },
  {
   "cell_type": "markdown",
   "metadata": {},
   "source": [
    "### extra modules"
   ]
  },
  {
   "cell_type": "code",
   "execution_count": 6,
   "metadata": {},
   "outputs": [],
   "source": [
    "# mechine learning\n",
    "from sklearn.metrics import make_scorer\n",
    "from sklearn.linear_model import LogisticRegression\n",
    "\n",
    "#ERD\n",
    "from wordcloud import WordCloud"
   ]
  },
  {
   "cell_type": "markdown",
   "metadata": {},
   "source": [
    "### Reading input files\n",
    "Reading input files for train annotated corpus (raw text data) corpus and for the test corpus"
   ]
  },
  {
   "cell_type": "code",
   "execution_count": 7,
   "metadata": {},
   "outputs": [],
   "source": [
    "train_filename = 'annotated_corpus_for_train.csv'\n",
    "test_filename  = 'corpus_for_test.csv'\n",
    "df_train = pd.read_csv(train_filename, index_col=None, encoding='utf-8')\n",
    "df_test  = pd.read_csv(test_filename, index_col=None, encoding='utf-8')"
   ]
  },
  {
   "cell_type": "code",
   "execution_count": 8,
   "metadata": {},
   "outputs": [
    {
     "data": {
      "text/html": [
       "<div>\n",
       "<style scoped>\n",
       "    .dataframe tbody tr th:only-of-type {\n",
       "        vertical-align: middle;\n",
       "    }\n",
       "\n",
       "    .dataframe tbody tr th {\n",
       "        vertical-align: top;\n",
       "    }\n",
       "\n",
       "    .dataframe thead th {\n",
       "        text-align: right;\n",
       "    }\n",
       "</style>\n",
       "<table border=\"1\" class=\"dataframe\">\n",
       "  <thead>\n",
       "    <tr style=\"text-align: right;\">\n",
       "      <th></th>\n",
       "      <th>story</th>\n",
       "      <th>gender</th>\n",
       "    </tr>\n",
       "  </thead>\n",
       "  <tbody>\n",
       "    <tr>\n",
       "      <th>0</th>\n",
       "      <td>כשחבר הזמין אותי לחול, לא באמת חשבתי שזה יקרה,...</td>\n",
       "      <td>m</td>\n",
       "    </tr>\n",
       "    <tr>\n",
       "      <th>1</th>\n",
       "      <td>לפני שהתגייסתי לצבא עשיתי כל מני מיונים ליחידו...</td>\n",
       "      <td>m</td>\n",
       "    </tr>\n",
       "    <tr>\n",
       "      <th>2</th>\n",
       "      <td>מאז שהתחילו הלימודים חלומו של כל סטודנט זה הפנ...</td>\n",
       "      <td>f</td>\n",
       "    </tr>\n",
       "    <tr>\n",
       "      <th>3</th>\n",
       "      <td>כשהייתי ילד, מטוסים היה הדבר שהכי ריתק אותי. ב...</td>\n",
       "      <td>m</td>\n",
       "    </tr>\n",
       "    <tr>\n",
       "      <th>4</th>\n",
       "      <td>‏הייתי מדריכה בכפר נוער ומתאם הכפר היינו צריכי...</td>\n",
       "      <td>f</td>\n",
       "    </tr>\n",
       "    <tr>\n",
       "      <th>5</th>\n",
       "      <td>לפני כ3 חודשים טסתי לרומא למשך שבוע. טסתי במטו...</td>\n",
       "      <td>f</td>\n",
       "    </tr>\n",
       "    <tr>\n",
       "      <th>6</th>\n",
       "      <td>אני כבר שנתיים נשוי והשנה אני ואישתי סוף סוף י...</td>\n",
       "      <td>m</td>\n",
       "    </tr>\n",
       "    <tr>\n",
       "      <th>7</th>\n",
       "      <td>השנה התחלנו שיפוץ בדירה שלנו בתל אביב. הדירה ה...</td>\n",
       "      <td>f</td>\n",
       "    </tr>\n",
       "  </tbody>\n",
       "</table>\n",
       "</div>"
      ],
      "text/plain": [
       "                                               story gender\n",
       "0  כשחבר הזמין אותי לחול, לא באמת חשבתי שזה יקרה,...      m\n",
       "1  לפני שהתגייסתי לצבא עשיתי כל מני מיונים ליחידו...      m\n",
       "2  מאז שהתחילו הלימודים חלומו של כל סטודנט זה הפנ...      f\n",
       "3  כשהייתי ילד, מטוסים היה הדבר שהכי ריתק אותי. ב...      m\n",
       "4  ‏הייתי מדריכה בכפר נוער ומתאם הכפר היינו צריכי...      f\n",
       "5  לפני כ3 חודשים טסתי לרומא למשך שבוע. טסתי במטו...      f\n",
       "6  אני כבר שנתיים נשוי והשנה אני ואישתי סוף סוף י...      m\n",
       "7  השנה התחלנו שיפוץ בדירה שלנו בתל אביב. הדירה ה...      f"
      ]
     },
     "execution_count": 8,
     "metadata": {},
     "output_type": "execute_result"
    },
    {
     "data": {
      "text/plain": [
       "(753, 2)"
      ]
     },
     "execution_count": 8,
     "metadata": {},
     "output_type": "execute_result"
    }
   ],
   "source": [
    "df_train.head(8)\n",
    "df_train.shape"
   ]
  },
  {
   "cell_type": "code",
   "execution_count": 9,
   "metadata": {},
   "outputs": [
    {
     "data": {
      "text/html": [
       "<div>\n",
       "<style scoped>\n",
       "    .dataframe tbody tr th:only-of-type {\n",
       "        vertical-align: middle;\n",
       "    }\n",
       "\n",
       "    .dataframe tbody tr th {\n",
       "        vertical-align: top;\n",
       "    }\n",
       "\n",
       "    .dataframe thead th {\n",
       "        text-align: right;\n",
       "    }\n",
       "</style>\n",
       "<table border=\"1\" class=\"dataframe\">\n",
       "  <thead>\n",
       "    <tr style=\"text-align: right;\">\n",
       "      <th></th>\n",
       "      <th>test_example_id</th>\n",
       "      <th>story</th>\n",
       "    </tr>\n",
       "  </thead>\n",
       "  <tbody>\n",
       "    <tr>\n",
       "      <th>0</th>\n",
       "      <td>0</td>\n",
       "      <td>כל קיץ אני והמשפחה נוסעים לארצות הברית לוס אנג...</td>\n",
       "    </tr>\n",
       "    <tr>\n",
       "      <th>1</th>\n",
       "      <td>1</td>\n",
       "      <td>הגעתי לשירות המדינה אחרי שנתיים כפעיל בתנועת \"...</td>\n",
       "    </tr>\n",
       "    <tr>\n",
       "      <th>2</th>\n",
       "      <td>2</td>\n",
       "      <td>אחת האהבות הגדולות שלי אלו הכלבים שלי ושל אישת...</td>\n",
       "    </tr>\n",
       "  </tbody>\n",
       "</table>\n",
       "</div>"
      ],
      "text/plain": [
       "   test_example_id                                              story\n",
       "0                0  כל קיץ אני והמשפחה נוסעים לארצות הברית לוס אנג...\n",
       "1                1  הגעתי לשירות המדינה אחרי שנתיים כפעיל בתנועת \"...\n",
       "2                2  אחת האהבות הגדולות שלי אלו הכלבים שלי ושל אישת..."
      ]
     },
     "execution_count": 9,
     "metadata": {},
     "output_type": "execute_result"
    },
    {
     "data": {
      "text/plain": [
       "(323, 2)"
      ]
     },
     "execution_count": 9,
     "metadata": {},
     "output_type": "execute_result"
    }
   ],
   "source": [
    "df_test.head(3)\n",
    "df_test.shape"
   ]
  },
  {
   "cell_type": "markdown",
   "metadata": {},
   "source": [
    "### Your implementation:\n",
    "Write your code solution in the following code-cells"
   ]
  },
  {
   "cell_type": "code",
   "execution_count": 10,
   "metadata": {},
   "outputs": [],
   "source": [
    "#we will firstly import some EDA modules\n",
    "import plotly.express as px\n",
    "from wordcloud import WordCloud"
   ]
  },
  {
   "cell_type": "markdown",
   "metadata": {},
   "source": [
    "## Data Visualizatio\n",
    "### mama mia"
   ]
  },
  {
   "cell_type": "code",
   "execution_count": 11,
   "metadata": {},
   "outputs": [],
   "source": [
    "# YOUR CODE HERE\n"
   ]
  },
  {
   "cell_type": "markdown",
   "metadata": {},
   "source": [
    "#### firstly we will replace the gatecorical column with ones and zeros\n",
    "female = 0\n",
    "male = 1"
   ]
  },
  {
   "cell_type": "code",
   "execution_count": 12,
   "metadata": {},
   "outputs": [
    {
     "data": {
      "text/html": [
       "<div>\n",
       "<style scoped>\n",
       "    .dataframe tbody tr th:only-of-type {\n",
       "        vertical-align: middle;\n",
       "    }\n",
       "\n",
       "    .dataframe tbody tr th {\n",
       "        vertical-align: top;\n",
       "    }\n",
       "\n",
       "    .dataframe thead th {\n",
       "        text-align: right;\n",
       "    }\n",
       "</style>\n",
       "<table border=\"1\" class=\"dataframe\">\n",
       "  <thead>\n",
       "    <tr style=\"text-align: right;\">\n",
       "      <th></th>\n",
       "      <th>story</th>\n",
       "      <th>gender</th>\n",
       "    </tr>\n",
       "  </thead>\n",
       "  <tbody>\n",
       "    <tr>\n",
       "      <th>0</th>\n",
       "      <td>כשחבר הזמין אותי לחול, לא באמת חשבתי שזה יקרה,...</td>\n",
       "      <td>0</td>\n",
       "    </tr>\n",
       "    <tr>\n",
       "      <th>1</th>\n",
       "      <td>לפני שהתגייסתי לצבא עשיתי כל מני מיונים ליחידו...</td>\n",
       "      <td>0</td>\n",
       "    </tr>\n",
       "    <tr>\n",
       "      <th>2</th>\n",
       "      <td>מאז שהתחילו הלימודים חלומו של כל סטודנט זה הפנ...</td>\n",
       "      <td>1</td>\n",
       "    </tr>\n",
       "    <tr>\n",
       "      <th>3</th>\n",
       "      <td>כשהייתי ילד, מטוסים היה הדבר שהכי ריתק אותי. ב...</td>\n",
       "      <td>0</td>\n",
       "    </tr>\n",
       "    <tr>\n",
       "      <th>4</th>\n",
       "      <td>‏הייתי מדריכה בכפר נוער ומתאם הכפר היינו צריכי...</td>\n",
       "      <td>1</td>\n",
       "    </tr>\n",
       "    <tr>\n",
       "      <th>...</th>\n",
       "      <td>...</td>\n",
       "      <td>...</td>\n",
       "    </tr>\n",
       "    <tr>\n",
       "      <th>748</th>\n",
       "      <td>אז לפני שנה בדיוק טסתי לאמסטרדם עם שני חברים ט...</td>\n",
       "      <td>0</td>\n",
       "    </tr>\n",
       "    <tr>\n",
       "      <th>749</th>\n",
       "      <td>שבוע שעבר העליתי באופן ספונטני רעיון לנסוע עם ...</td>\n",
       "      <td>0</td>\n",
       "    </tr>\n",
       "    <tr>\n",
       "      <th>750</th>\n",
       "      <td>לפני חודש עברנו לדירה בבית שמש בעקבות משפחתי ה...</td>\n",
       "      <td>0</td>\n",
       "    </tr>\n",
       "    <tr>\n",
       "      <th>751</th>\n",
       "      <td>החוויה אותה ארצה לשתף התרחשה לפני כמה חודשים, ...</td>\n",
       "      <td>1</td>\n",
       "    </tr>\n",
       "    <tr>\n",
       "      <th>752</th>\n",
       "      <td>פעם כשהייתי בחו\" \"ל ,בקבולומביה כחלק מהטיול של...</td>\n",
       "      <td>0</td>\n",
       "    </tr>\n",
       "  </tbody>\n",
       "</table>\n",
       "<p>753 rows × 2 columns</p>\n",
       "</div>"
      ],
      "text/plain": [
       "                                                 story gender\n",
       "0    כשחבר הזמין אותי לחול, לא באמת חשבתי שזה יקרה,...      0\n",
       "1    לפני שהתגייסתי לצבא עשיתי כל מני מיונים ליחידו...      0\n",
       "2    מאז שהתחילו הלימודים חלומו של כל סטודנט זה הפנ...      1\n",
       "3    כשהייתי ילד, מטוסים היה הדבר שהכי ריתק אותי. ב...      0\n",
       "4    ‏הייתי מדריכה בכפר נוער ומתאם הכפר היינו צריכי...      1\n",
       "..                                                 ...    ...\n",
       "748  אז לפני שנה בדיוק טסתי לאמסטרדם עם שני חברים ט...      0\n",
       "749  שבוע שעבר העליתי באופן ספונטני רעיון לנסוע עם ...      0\n",
       "750  לפני חודש עברנו לדירה בבית שמש בעקבות משפחתי ה...      0\n",
       "751  החוויה אותה ארצה לשתף התרחשה לפני כמה חודשים, ...      1\n",
       "752  פעם כשהייתי בחו\" \"ל ,בקבולומביה כחלק מהטיול של...      0\n",
       "\n",
       "[753 rows x 2 columns]"
      ]
     },
     "execution_count": 12,
     "metadata": {},
     "output_type": "execute_result"
    }
   ],
   "source": [
    "#Male = 1, Female = 0\n",
    "\n",
    "df_full = df_train.copy()\n",
    "df_full = df_full.append(df_test)\n",
    "\n",
    "df_erd = df_train.copy()\n",
    "\n",
    "df_erd[\"gender\"] = df_erd[\"gender\"].astype('category')\n",
    "replace_m={'m': 0, 'f': 1}\n",
    "df_erd.replace(replace_m, inplace = True)\n",
    "\n",
    "df_erd"
   ]
  },
  {
   "cell_type": "markdown",
   "metadata": {},
   "source": [
    "now we will get rid of all the commas, full stops and extra spaces\n",
    "we will also transform the text into an array of the words in story"
   ]
  },
  {
   "cell_type": "code",
   "execution_count": 13,
   "metadata": {
    "scrolled": true
   },
   "outputs": [
    {
     "data": {
      "text/plain": [
       "['כשחבר',\n",
       " 'הזמין',\n",
       " 'אותי',\n",
       " 'לחול',\n",
       " 'לא',\n",
       " 'באמת',\n",
       " 'חשבתי',\n",
       " 'שזה',\n",
       " 'יקרה',\n",
       " 'פשוט',\n",
       " 'אמרתי',\n",
       " 'לו',\n",
       " 'כן',\n",
       " 'ותיארתי',\n",
       " 'לעצני',\n",
       " 'שזה',\n",
       " 'יתבטל',\n",
       " 'אחרי',\n",
       " 'שבועיים',\n",
       " 'בערך',\n",
       " 'אני',\n",
       " 'מקבל',\n",
       " 'טלפוןם',\n",
       " 'ממנו',\n",
       " 'שומע',\n",
       " 'מצאתי',\n",
       " 'אחלה',\n",
       " 'מקודות',\n",
       " 'שנוטכל',\n",
       " 'טייל',\n",
       " 'בהם',\n",
       " 'ואז',\n",
       " 'הבנתי',\n",
       " 'שזה',\n",
       " 'הולך',\n",
       " 'לקרות',\n",
       " 'התחלתי',\n",
       " 'להתארגןם',\n",
       " 'על',\n",
       " 'דברים',\n",
       " 'ציוד',\n",
       " 'להליכה',\n",
       " 'תיקים',\n",
       " 'בגדים',\n",
       " 'חמים',\n",
       " 'כסף',\n",
       " 'ודרכון',\n",
       " 'מעודכן',\n",
       " 'לאחר',\n",
       " 'תכנונים',\n",
       " 'נפגשנו',\n",
       " 'בשדה',\n",
       " 'הוא',\n",
       " 'הביא',\n",
       " 'לי',\n",
       " 'את',\n",
       " 'אחד',\n",
       " 'מהתיקים',\n",
       " 'שלו',\n",
       " 'כי',\n",
       " 'לי',\n",
       " 'אין',\n",
       " 'תיק',\n",
       " 'טוב',\n",
       " 'לטיולים',\n",
       " 'ועלינו',\n",
       " 'למטוס',\n",
       " 'לאיטליה',\n",
       " 'בטיסה',\n",
       " 'עצמה',\n",
       " 'לא',\n",
       " 'הצלחתי',\n",
       " 'לישון',\n",
       " 'היה',\n",
       " 'ילד',\n",
       " 'קטן',\n",
       " 'שבכה',\n",
       " 'כל',\n",
       " 'הדרך',\n",
       " 'מעצבן',\n",
       " 'כשהגענו',\n",
       " 'הלכנו',\n",
       " 'ישר',\n",
       " 'לסוכנות',\n",
       " 'השכרת',\n",
       " 'הרכב',\n",
       " 'ולקחנו',\n",
       " 'את',\n",
       " 'הרכב',\n",
       " 'שהזמנו',\n",
       " 'מראש',\n",
       " 'סיטרואל',\n",
       " '4C',\n",
       " 'בצבע',\n",
       " 'סגול',\n",
       " 'כי',\n",
       " 'זה',\n",
       " 'מה',\n",
       " 'שנשאר',\n",
       " 'חצי',\n",
       " 'קראנו',\n",
       " 'לה',\n",
       " 'עלינו',\n",
       " 'על',\n",
       " 'חצי',\n",
       " 'והתחלנו',\n",
       " 'את',\n",
       " 'המסע',\n",
       " 'לכיוון',\n",
       " 'אגם',\n",
       " 'גארדה',\n",
       " 'השעה',\n",
       " 'הייתה',\n",
       " '10',\n",
       " 'בערב',\n",
       " 'קצת',\n",
       " 'קריר',\n",
       " 'בחוץ',\n",
       " 'חושך',\n",
       " 'מוות',\n",
       " 'ואין',\n",
       " 'לנו',\n",
       " 'מושג',\n",
       " 'לאן',\n",
       " 'אנחנו',\n",
       " 'נוסעים',\n",
       " 'רק',\n",
       " 'עם',\n",
       " 'GPS',\n",
       " 'בהתחלה',\n",
       " 'התחלנו',\n",
       " 'לחפש',\n",
       " 'מקום',\n",
       " 'לישון',\n",
       " 'בו',\n",
       " 'מצאנו',\n",
       " 'עיירה',\n",
       " 'סמוכה',\n",
       " 'והחלטנו',\n",
       " 'ללכת',\n",
       " 'לשם',\n",
       " 'על',\n",
       " 'הדרך',\n",
       " 'עצרנו',\n",
       " 'בפיצה',\n",
       " 'הםיצה',\n",
       " 'הראשונה',\n",
       " 'באיטליה',\n",
       " 'משם',\n",
       " 'המשכנו',\n",
       " 'לעיירה',\n",
       " 'עצמה',\n",
       " 'ומצאנו',\n",
       " 'אכסנייה',\n",
       " 'די',\n",
       " 'נחמדה',\n",
       " 'שבה',\n",
       " 'עצרנו',\n",
       " 'ללילה',\n",
       " 'בבוקר',\n",
       " 'שלמחורת',\n",
       " 'הוא',\n",
       " 'מצא',\n",
       " 'מסלול',\n",
       " 'טיול',\n",
       " 'על',\n",
       " 'אחד',\n",
       " 'ההרים',\n",
       " 'באזור',\n",
       " 'נסענו',\n",
       " 'לשם',\n",
       " 'נסיעה',\n",
       " 'של',\n",
       " 'כשעה',\n",
       " 'בערך',\n",
       " 'התחלנו',\n",
       " 'לעלות',\n",
       " 'עם',\n",
       " 'הרכב',\n",
       " 'לכיוון',\n",
       " 'המסלול',\n",
       " 'הדרך',\n",
       " 'הייתה',\n",
       " 'נופית',\n",
       " 'עצים',\n",
       " 'ויער',\n",
       " 'מכל',\n",
       " 'כיוון',\n",
       " 'עד',\n",
       " 'שבאיזשהו',\n",
       " 'שלב',\n",
       " 'הוא',\n",
       " 'מבקש',\n",
       " 'ממני',\n",
       " 'לעצור',\n",
       " 'ולחנות',\n",
       " 'את',\n",
       " 'הרכב',\n",
       " 'אני',\n",
       " 'שלא',\n",
       " 'ראיתי',\n",
       " 'חניה',\n",
       " 'מסודרת',\n",
       " 'ולא',\n",
       " 'מכיר',\n",
       " 'מסלולי',\n",
       " 'טיולים',\n",
       " 'כאלה',\n",
       " 'לא',\n",
       " 'הבנתי',\n",
       " 'מה',\n",
       " 'הוא',\n",
       " 'רוצה',\n",
       " 'עצרתי',\n",
       " 'את',\n",
       " 'הרכב',\n",
       " 'יצאנו',\n",
       " 'ממנו',\n",
       " 'מסתכלים',\n",
       " 'לכיוון',\n",
       " 'ההר',\n",
       " 'בדיעבד',\n",
       " 'ההר',\n",
       " 'היה',\n",
       " 'בגובה',\n",
       " 'של',\n",
       " '2',\n",
       " 'קמ',\n",
       " 'הוא',\n",
       " 'מצביע',\n",
       " 'לראש',\n",
       " 'ההר',\n",
       " 'ואומר',\n",
       " 'לי:',\n",
       " 'רואה',\n",
       " 'את',\n",
       " 'הצלב',\n",
       " 'שם',\n",
       " 'לשם',\n",
       " 'אנחנו',\n",
       " 'מגיעים',\n",
       " 'אמרתי',\n",
       " 'אוקיי',\n",
       " 'איפה',\n",
       " 'ההתחלה',\n",
       " 'הוא',\n",
       " 'אומר',\n",
       " 'לי',\n",
       " 'פה',\n",
       " 'והתחלנו',\n",
       " 'ללכת',\n",
       " 'לכיוון',\n",
       " 'ראש',\n",
       " 'ההר',\n",
       " 'בהתחלה',\n",
       " 'העליה',\n",
       " 'הייתה',\n",
       " 'די',\n",
       " 'תלולה',\n",
       " 'אני',\n",
       " 'אומנם',\n",
       " 'בלי',\n",
       " 'םפחד',\n",
       " 'גבהים',\n",
       " 'אבל',\n",
       " 'כל',\n",
       " 'הזמן',\n",
       " 'דיברתי',\n",
       " 'איתו',\n",
       " 'מה',\n",
       " 'היה',\n",
       " 'קורה',\n",
       " 'אם',\n",
       " 'אם',\n",
       " 'מישהו',\n",
       " 'נופל',\n",
       " 'מה',\n",
       " 'עושים',\n",
       " 'איל',\n",
       " 'מזעיקים',\n",
       " 'עזרה',\n",
       " 'העייריה',\n",
       " 'הכי',\n",
       " 'קרובה',\n",
       " 'זה',\n",
       " 'שעה',\n",
       " 'נסיעה',\n",
       " 'אני',\n",
       " 'בלי',\n",
       " 'טלפון',\n",
       " 'עם',\n",
       " 'רשת',\n",
       " 'והוא',\n",
       " 'עם',\n",
       " 'חצי',\n",
       " 'כוח',\n",
       " 'הסכמנו',\n",
       " 'שאם',\n",
       " 'אחד',\n",
       " 'נופל',\n",
       " 'וזאת',\n",
       " 'פציעה',\n",
       " 'קשה',\n",
       " 'עוצרים',\n",
       " 'כמובן',\n",
       " 'ומנסים',\n",
       " 'לפנות',\n",
       " 'כמה',\n",
       " 'שאפשר',\n",
       " 'לא',\n",
       " 'קרה',\n",
       " 'לנו',\n",
       " 'כלום',\n",
       " 'לשמחתי',\n",
       " 'לאחר',\n",
       " 'הטיפוס',\n",
       " 'של',\n",
       " 'שעתיים',\n",
       " 'בערךף',\n",
       " 'הגענו',\n",
       " 'לראש',\n",
       " 'ההר',\n",
       " 'הנוף',\n",
       " 'היה',\n",
       " 'מרשים',\n",
       " 'השמיים',\n",
       " 'היו',\n",
       " 'מכוסים',\n",
       " 'בעננים',\n",
       " 'ולא',\n",
       " 'ראינו',\n",
       " 'יותר',\n",
       " 'מידי',\n",
       " 'בהתחלה',\n",
       " 'אבל',\n",
       " 'לאחר',\n",
       " 'כמה',\n",
       " 'דקות',\n",
       " 'השמיים',\n",
       " 'בתבהרו',\n",
       " 'קצת',\n",
       " 'וראינו',\n",
       " 'ממש',\n",
       " 'רחוק',\n",
       " 'אפילו',\n",
       " 'אתץ',\n",
       " 'האוטו',\n",
       " 'שלא',\n",
       " 'גנבו',\n",
       " 'אותו',\n",
       " 'בסוף',\n",
       " 'שזאת',\n",
       " 'הייתה',\n",
       " 'אחת',\n",
       " 'מהדאגות',\n",
       " 'שלי',\n",
       " 'לאחר',\n",
       " 'מכן',\n",
       " 'חזרנו',\n",
       " 'לאוטו',\n",
       " 'ונסענו',\n",
       " 'עיירה',\n",
       " 'חדשה',\n",
       " 'במטרה',\n",
       " 'לטייל',\n",
       " 'שוב',\n",
       " 'ואז',\n",
       " 'התחילה',\n",
       " 'הקורונה',\n",
       " 'לא',\n",
       " 'חשבנו',\n",
       " 'שזה',\n",
       " 'יגיע',\n",
       " 'לאזור',\n",
       " 'שלנו',\n",
       " 'אבל',\n",
       " 'עדיין',\n",
       " 'כששמענו',\n",
       " 'על',\n",
       " 'זה',\n",
       " 'בפעם',\n",
       " 'הראשונה',\n",
       " 'קצת',\n",
       " 'צחקנו',\n",
       " 'ואמרנו',\n",
       " 'שאין',\n",
       " 'סיכוי',\n",
       " 'שזה',\n",
       " 'יגיע',\n",
       " 'אלינו',\n",
       " 'אבל',\n",
       " 'כשהגיע',\n",
       " 'אליטליה',\n",
       " 'מצאנו',\n",
       " 'את',\n",
       " 'עצמנו',\n",
       " 'מנסים',\n",
       " 'לחזור',\n",
       " 'כמה',\n",
       " 'שיותר',\n",
       " 'נמהר',\n",
       " 'הביתה',\n",
       " 'בסוף',\n",
       " 'הספקנו',\n",
       " 'לעלות',\n",
       " 'את',\n",
       " 'הטיסה',\n",
       " 'הראשטה',\n",
       " 'מאיטליה',\n",
       " 'לפני',\n",
       " 'שהיא',\n",
       " 'נסגרה',\n",
       " 'המזל',\n",
       " 'היה',\n",
       " 'שהיינו',\n",
       " 'עם',\n",
       " 'מסיכות',\n",
       " 'כבר',\n",
       " 'אז',\n",
       " 'לא',\n",
       " 'נדבקנו']"
      ]
     },
     "execution_count": 13,
     "metadata": {},
     "output_type": "execute_result"
    }
   ],
   "source": [
    "replacements = ['.',',','?','!',\"'\",'\"',\"(\",\")\",\"[\",\"]\"]\n",
    "\n",
    "for i in range(df_erd.shape[0]):\n",
    "    #remove commas,full stops,question marks a '!'\n",
    "    row = df_erd['story'][i]\n",
    "    #row = row.replace('.','')\n",
    "    #row = row.replace(',','')\n",
    "    for char in replacements:\n",
    "        row = row.replace(char,'')\n",
    "    \n",
    "    df_erd['story'][i] = row.split(\" \")\n",
    "    \n",
    "\n",
    "df_erd['story'][0]"
   ]
  },
  {
   "cell_type": "markdown",
   "metadata": {},
   "source": [
    "### now lets try to find some differences between stories by men and women\n",
    "firstly let's see if there is difference in word count\n",
    "\n",
    "let's add a new category called \"word count\" so that we can plot it eaasily"
   ]
  },
  {
   "cell_type": "code",
   "execution_count": 14,
   "metadata": {},
   "outputs": [],
   "source": [
    "num_of_words = [len(text) for text in df_erd[\"story\"]]\n",
    "df_erd[\"num of words\"] = num_of_words"
   ]
  },
  {
   "cell_type": "raw",
   "metadata": {
    "jupyter": {
     "source_hidden": true
    }
   },
   "source": [
    "def dont_include():\n",
    "    fig, ax = plt.subplots(figsize=(10,6))\n",
    "    df_erd[\"Number of Words\"].hist(bins=50,density=False,rwidth=1,edgecolor='DarkBlue',grid=False)\n",
    "    ax.set_title(\"amount of words per story with no regard to gender\")\n",
    "    ax.set_xlabel(\"Number of Words\")\n",
    "    ax.set_ylabel(\"Frequency\")\n",
    "    plt.show()\n",
    "    \n",
    "    df_male[\"Number of Words\"].hist(bins=50,density=False,rwidth=1,edgecolor='DarkBlue',grid=False)\n",
    "    ax.set_title(\"amount of words per storys of men\")\n",
    "    ax.set_xlabel(\"Number of Words\")\n",
    "    ax.set_ylabel(\"Frequency\")\n",
    "    plt.show()\n",
    "    \n",
    "    df_female[\"Number of Words\"].hist(bins=50,density=False,rwidth=1,edgecolor='DarkBlue',grid=False)\n",
    "    ax.set_title(\"amount of words per storys of women\")\n",
    "    ax.set_xlabel(\"Number of Words\")\n",
    "    ax.set_ylabel(\"Frequency\")\n",
    "    plt.show()"
   ]
  },
  {
   "cell_type": "code",
   "execution_count": 15,
   "metadata": {},
   "outputs": [
    {
     "data": {
      "text/plain": [
       "<matplotlib.collections.PathCollection at 0x1a894dbb820>"
      ]
     },
     "execution_count": 15,
     "metadata": {},
     "output_type": "execute_result"
    },
    {
     "data": {
      "text/plain": [
       "<matplotlib.collections.PathCollection at 0x1a894dfce20>"
      ]
     },
     "execution_count": 15,
     "metadata": {},
     "output_type": "execute_result"
    },
    {
     "data": {
      "text/plain": [
       "<matplotlib.legend.Legend at 0x1a894dfcc10>"
      ]
     },
     "execution_count": 15,
     "metadata": {},
     "output_type": "execute_result"
    },
    {
     "data": {
      "text/plain": [
       "Text(0.5, 0, 'Story index number')"
      ]
     },
     "execution_count": 15,
     "metadata": {},
     "output_type": "execute_result"
    },
    {
     "data": {
      "text/plain": [
       "Text(0, 0.5, 'Number of Words')"
      ]
     },
     "execution_count": 15,
     "metadata": {},
     "output_type": "execute_result"
    },
    {
     "data": {
      "image/png": "[encoded data removed]",
      "text/plain": [
       "<Figure size 640x480 with 1 Axes>"
      ]
     },
     "metadata": {},
     "output_type": "display_data"
    }
   ],
   "source": [
    "df_male = df_erd[df_erd[\"gender\"] == 0]\n",
    "df_female = df_erd[df_erd[\"gender\"] == 1]\n",
    "\n",
    "\n",
    "# Create a scatter plot with different colors for men and women\n",
    "plt.scatter(x = df_male[\"num of words\"].index ,y = df_male[\"num of words\"] , color='blue', label='Men',alpha = 1)\n",
    "plt.scatter(x = df_female[\"num of words\"].index ,y = df_female[\"num of words\"] , color='pink', label='Women',alpha = 1)\n",
    "\n",
    "plt.legend()\n",
    "plt.xlabel(\"Story index number\")\n",
    "plt.ylabel(\"Number of Words\")"
   ]
  },
  {
   "cell_type": "markdown",
   "metadata": {},
   "source": [
    "### we clearly have a problem here\n",
    "there are way more men than women, we also see that there is are a lot of outliers and that gender has no real impact on the amount of words"
   ]
  },
  {
   "cell_type": "code",
   "execution_count": 18,
   "metadata": {},
   "outputs": [
    {
     "data": {
      "text/plain": [
       "<Axes: ylabel='amount of stories'>"
      ]
     },
     "execution_count": 18,
     "metadata": {},
     "output_type": "execute_result"
    },
    {
     "data": {
      "image/png": "[encoded data removed]",
      "text/plain": [
       "<Figure size 640x480 with 1 Axes>"
      ]
     },
     "metadata": {},
     "output_type": "display_data"
    }
   ],
   "source": [
    "df_erd['gender'].value_counts(normalize=False).plot.bar(color=[\"blue\",\"pink\"],ylabel = \"amount of stories\",rot = 0,x = [\"men\",\"women\"])"
   ]
  },
  {
   "cell_type": "code",
   "execution_count": 19,
   "metadata": {},
   "outputs": [
    {
     "data": {
      "text/plain": [
       "<Axes: xlabel='num of words'>"
      ]
     },
     "execution_count": 19,
     "metadata": {},
     "output_type": "execute_result"
    },
    {
     "data": {
      "image/png": "[encoded data removed]",
      "text/plain": [
       "<Figure size 640x480 with 1 Axes>"
      ]
     },
     "metadata": {},
     "output_type": "display_data"
    }
   ],
   "source": [
    "sns.boxplot(x = df_erd[\"num of words\"], color = \"red\")"
   ]
  },
  {
   "cell_type": "markdown",
   "metadata": {},
   "source": [
    "lets remove outliers"
   ]
  },
  {
   "cell_type": "code",
   "execution_count": null,
   "metadata": {},
   "outputs": [],
   "source": []
  },
  {
   "cell_type": "markdown",
   "metadata": {},
   "source": [
    "lets see how it looks like now"
   ]
  },
  {
   "cell_type": "code",
   "execution_count": 17,
   "metadata": {},
   "outputs": [
    {
     "ename": "NameError",
     "evalue": "name 'asfsaf' is not defined",
     "output_type": "error",
     "traceback": [
      "\u001b[1;31m---------------------------------------------------------------------------\u001b[0m",
      "\u001b[1;31mNameError\u001b[0m                                 Traceback (most recent call last)",
      "Cell \u001b[1;32mIn[17], line 1\u001b[0m\n\u001b[1;32m----> 1\u001b[0m \u001b[43masfsaf\u001b[49m\n",
      "\u001b[1;31mNameError\u001b[0m: name 'asfsaf' is not defined"
     ]
    }
   ],
   "source": [
    "asfsaf"
   ]
  },
  {
   "cell_type": "markdown",
   "metadata": {},
   "source": [
    "### Mechinge Learning"
   ]
  },
  {
   "cell_type": "code",
   "execution_count": null,
   "metadata": {},
   "outputs": [],
   "source": [
    "max_samps = df_train.shape[0]\n",
    "\n",
    "model_params = {\n",
    "        'LogisticRegression': {\n",
    "        'vectorizer': [TfidfVectorizer(min_df=5,max_df=max_samps)],\n",
    "        'vectorizer__max_features': [None, 2000],\n",
    "        'vectorizer__ngram_range': [(1, 1),(1, 2),(1, 3)],\n",
    "        'scaler': [StandardScaler(with_mean=False), MinMaxScaler()],\n",
    "        'classifier': [LogisticRegression(class_weight='balanced')],\n",
    "        'classifier__penalty': ['l1','l2']\n",
    "        },\n",
    "        'MultinomialNaiveBayes': {\n",
    "        'vectorizer': [CountVectorizer(min_df=5, max_df=max_samps)],\n",
    "        'vectorizer__max_features':[None, 2000],\n",
    "        'vectorizer__ngram_range': [(1, 1),(1, 2),(1, 3)],\n",
    "        'scaler': [StandardScaler(with_mean=False)],\n",
    "        'classifier': [MultinomialNB()],\n",
    "        'classifier__alpha': [0.01],\n",
    "        },\n",
    "        'Perceptron': {\n",
    "        'vectorizer': [TfidfVectorizer(min_df=5, max_df=max_samps)],\n",
    "        'vectorizer__ngram_range': [(1, 1),(1, 2),(1, 3)],\n",
    "        'scaler': [StandardScaler(with_mean=False)],\n",
    "        'classifier': [Perceptron()],\n",
    "        'classifier__penalty': ['l1','l2'],\n",
    "        },\n",
    "        'SVC': {\n",
    "        'vectorizer': [CountVectorizer(min_df=5, max_df=max_samps), TfidfVectorizer()],\n",
    "        'vectorizer__max_features':[None, 2000],\n",
    "        'vectorizer__ngram_range': [(1, 1), (1, 2),(1,3)],\n",
    "        'scaler': [StandardScaler(with_mean=False), MinMaxScaler()],\n",
    "        'classifier': [svm.SVC()],\n",
    "        'classifier__kernel': ['linear','rbf','sigmoid'],\n",
    "        'classifier__C': [0.01, 1, 10],\n",
    "        'classifier__tol': [0.001],\n",
    "        },\n",
    "        'KNN': {\n",
    "        'vectorizer': [CountVectorizer(min_df=5, max_df=max_samps), TfidfVectorizer()],\n",
    "        'vectorizer__max_features':[None, 2000],\n",
    "        'vectorizer__ngram_range': [(1, 1), (1, 2),(1,3)],\n",
    "        'scaler': [StandardScaler(with_mean=False), MinMaxScaler()],\n",
    "        'classifier': [KNeighborsClassifier()],\n",
    "        'classifier__n_neighbors': [5, 50],\n",
    "        'classifier__p': [1, 2]\n",
    "        },\n",
    "        'DecisionTree': {\n",
    "        'vectorizer': [CountVectorizer(min_df=5, max_df=max_samps)],\n",
    "        'vectorizer__max_features':[None, 2000],\n",
    "        'vectorizer__ngram_range': [(1,1),(1,2),(1,3)],\n",
    "        'scaler': [StandardScaler(with_mean=False), MinMaxScaler()],\n",
    "        'classifier': [DecisionTreeClassifier()],\n",
    "        },\n",
    "}"
   ]
  },
  {
   "cell_type": "code",
   "execution_count": null,
   "metadata": {},
   "outputs": [],
   "source": [
    "# Machine learning model fitting.\n",
    "\n",
    "X = df_train[\"story\"]\n",
    "y = df_train[\"gender\"]\n",
    "\n",
    "# Create a pipeline\n",
    "pipeline = Pipeline([\n",
    "    ('vectorizer', None),\n",
    "    ('scaler', None),\n",
    "    ('classifier', None)\n",
    "])\n",
    "\n",
    "# We're using the KFold cross-validation method to improve our models' accuracies\n",
    "cv = model_selection.KFold(n_splits = 5)\n",
    "\n",
    "# Define F1 macro scorer\n",
    "f1_scorer = make_scorer(f1_score, average='macro')\n",
    "\n",
    "# Perform grid search over the models_params dictionary\n",
    "results = []\n",
    "for model_name, model_params in model_params.items():\n",
    "    print(f\"\\n\\n\\nGrid search for {model_name}:\\n\")\n",
    "    clf = GridSearchCV(pipeline, model_params, cv=cv, scoring=f1_scorer, verbose=1,n_jobs=10)\n",
    "    clf.fit(X, y)\n",
    "\n",
    "    # Get the best hyperparameters\n",
    "    best_params = clf.best_params_\n",
    "\n",
    "    # Perform cross-validation with the specified scoring method\n",
    "    cv_scores = cross_val_score(clf.best_estimator_, X, y, scoring=f1_scorer, cv=10)\n",
    "\n",
    "    # Calculate the mean of cv_scores\n",
    "    cv_mean_score = np.mean(cv_scores)\n",
    "\n",
    "    # Store the results\n",
    "    result = {\n",
    "        \"model_name\": model_name,\n",
    "        \"best_params\": best_params,\n",
    "        \"cv_mean_score\": cv_mean_score\n",
    "    }\n",
    "    results.append(result)\n",
    "\n",
    "    # Print the results for the current clf\n",
    "    print(f\"Best hyperparameters:\\n{best_params}\")\n",
    "    print(f\"Cross-validated F1 macro mean score:\\n{cv_mean_score:.4f}\") \n",
    "    print(\"\\n*********************************************************\\n\")\n",
    "\n",
    "# Print the final results\n",
    "for result in results:\n",
    "    print(f\"Model:\\n{result['model_name']}\")\n",
    "    print(f\"Best hyperparameters:\\n{result['best_params']}\")\n",
    "    print(f\"Cross-validated F1 macro mean score:\\n{result['cv_mean_score']:.4f}\") \n",
    "    print(\"\\n*********************************************************\\n\")"
   ]
  },
  {
   "cell_type": "code",
   "execution_count": null,
   "metadata": {},
   "outputs": [],
   "source": [
    "df_res = pd.DataFrame(results)\n",
    "df_res.drop(\"best_params\", axis = 1)"
   ]
  },
  {
   "cell_type": "code",
   "execution_count": null,
   "metadata": {},
   "outputs": [],
   "source": [
    "pipeline = Pipeline([\n",
    "    ('vectorizer', TfidfVectorizer(max_df=753, max_features=2000, min_df=5, ngram_range = (1, 1))),\n",
    "    ('scaler', StandardScaler(with_mean=False)),\n",
    "    ('classifier', LogisticRegression(penalty = 'l2', class_weight='balanced'))\n",
    "])\n",
    "\n",
    "# # Fit the pipeline to the training data with the best estimator\n",
    "pipeline.fit(df_train['story'], y) # y is binary (1 for female)\n",
    "\n",
    "# Make predictions on the test data\n",
    "y_pred_test = pipeline.predict(df_test['story'])\n",
    "\n",
    "# Sample first and last 5 rows of df_test and predict on them\n",
    "df_predicted = df_test.copy()\n",
    "df_predicted['predicted_category'] = y_pred_test\n",
    "df_predicted['predicted_category'] = pd.Series(y_pred_test).map({0: 'm', 1: 'f'})\n",
    "\n",
    "# Print it out\n",
    "df_predicted"
   ]
  },
  {
   "cell_type": "code",
   "execution_count": null,
   "metadata": {},
   "outputs": [],
   "source": []
  },
  {
   "cell_type": "code",
   "execution_count": null,
   "metadata": {},
   "outputs": [],
   "source": []
  },
  {
   "cell_type": "code",
   "execution_count": null,
   "metadata": {},
   "outputs": [],
   "source": []
  },
  {
   "cell_type": "code",
   "execution_count": null,
   "metadata": {},
   "outputs": [],
   "source": []
  },
  {
   "cell_type": "code",
   "execution_count": null,
   "metadata": {},
   "outputs": [],
   "source": []
  },
  {
   "cell_type": "markdown",
   "metadata": {},
   "source": [
    "### Save output to csv (optional)\n",
    "After you're done save your output to the 'classification_results.csv' csv file.<br/>\n",
    "We assume that the dataframe with your results contain the following columns:\n",
    "* column 1 (left column): 'test_example_id'  - the same id associated to each of the test stories to be predicted.\n",
    "* column 2 (right column): 'predicted_category' - the predicted gender value for each of the associated story. \n",
    "\n",
    "Assuming your predicted values are in the `df_predicted` dataframe, you should save you're results as following:"
   ]
  },
  {
   "cell_type": "code",
   "execution_count": null,
   "metadata": {},
   "outputs": [],
   "source": [
    "df_predicted.to_csv('classification_results.csv',index=False)"
   ]
  }
 ],
 "metadata": {
  "celltoolbar": "Create Assignment",
  "kernelspec": {
   "display_name": "Python 3 (ipykernel)",
   "language": "python",
   "name": "python3"
  },
  "language_info": {
   "codemirror_mode": {
    "name": "ipython",
    "version": 3
   },
   "file_extension": ".py",
   "mimetype": "text/x-python",
   "name": "python",
   "nbconvert_exporter": "python",
   "pygments_lexer": "ipython3",
   "version": "3.10.8"
  }
 },
 "nbformat": 4,
 "nbformat_minor": 4
}
